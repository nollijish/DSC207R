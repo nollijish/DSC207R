{
 "cells": [
  {
   "cell_type": "code",
   "execution_count": null,
   "id": "3f6961ff-3cfd-4d94-abbd-2b9ab8bdb0cc",
   "metadata": {},
   "outputs": [],
   "source": [
    "import pandas as pd\n",
    "import os\n",
    "from pathlib import Path, PureWindowsPath"
   ]
  },
  {
   "cell_type": "code",
   "execution_count": null,
   "id": "b566a306-99a1-4f53-994e-691635293881",
   "metadata": {},
   "outputs": [],
   "source": [
    "# input directory and filename here\n",
    "filename = 'creditcard.csv'\n",
    "url = Path(PureWindowsPath('C:\\\\Users\\\\woodn\\\\github\\\\datasets'))"
   ]
  },
  {
   "cell_type": "code",
   "execution_count": null,
   "id": "ee8ec69e-7016-4af6-a304-09839d9b5e87",
   "metadata": {},
   "outputs": [],
   "source": [
    "filepath = url / filename"
   ]
  },
  {
   "cell_type": "code",
   "execution_count": null,
   "id": "f0fdcc3e-c3ed-43eb-a14a-5e9482e2ae92",
   "metadata": {},
   "outputs": [],
   "source": [
    "filepath"
   ]
  },
  {
   "cell_type": "code",
   "execution_count": null,
   "id": "29e46cb1-5af0-4716-a4af-81c172dd5f82",
   "metadata": {},
   "outputs": [],
   "source": [
    "df = pd.read_csv(filepath,\n",
    "                 on_bad_lines = 'warn',\n",
    "                 low_memory = False\n",
    "                )"
   ]
  },
  {
   "cell_type": "code",
   "execution_count": null,
   "id": "5c0a65da-9d21-4621-80de-8dfbb3df3a16",
   "metadata": {},
   "outputs": [],
   "source": [
    "filename2 = filename + '.gz'\n",
    "filepath2 = url / filename2"
   ]
  },
  {
   "cell_type": "code",
   "execution_count": null,
   "id": "691a8ca2-5421-40b4-b981-5a4149dff9d2",
   "metadata": {},
   "outputs": [],
   "source": [
    "filepath2"
   ]
  },
  {
   "cell_type": "code",
   "execution_count": null,
   "id": "f621e3fe-1411-44cf-ac79-11f373fc1c53",
   "metadata": {},
   "outputs": [],
   "source": [
    "df.head()"
   ]
  },
  {
   "cell_type": "markdown",
   "id": "93da51d0-ed41-401d-98ef-9c8d166c2f0c",
   "metadata": {},
   "source": [
    "# Take it to csv GZIP"
   ]
  },
  {
   "cell_type": "code",
   "execution_count": null,
   "id": "28879110-56de-49b0-9f79-cc7a120214b2",
   "metadata": {},
   "outputs": [],
   "source": [
    "df.to_csv(filepath2,\n",
    "          index = False,\n",
    "          compression = 'gzip'\n",
    "         )"
   ]
  },
  {
   "cell_type": "code",
   "execution_count": null,
   "id": "a5250fb1-20af-4761-bf35-83f60487ba16",
   "metadata": {},
   "outputs": [],
   "source": [
    "df2 = pd.read_csv(filepath2,\n",
    "                  low_memory = False,\n",
    "                  compression = 'gzip'\n",
    "                 )"
   ]
  },
  {
   "cell_type": "markdown",
   "id": "386b9ed0-b9e6-471a-888b-4da814d4d383",
   "metadata": {},
   "source": [
    "# Take it to parquet GZIP"
   ]
  },
  {
   "cell_type": "code",
   "execution_count": null,
   "id": "d010ed19-cb0f-4fa5-bc0d-0933d93ac3df",
   "metadata": {},
   "outputs": [],
   "source": [
    "df.to_parquet(filepath2,\n",
    "              index = False,\n",
    "              compression = 'gzip'\n",
    "             )"
   ]
  },
  {
   "cell_type": "code",
   "execution_count": null,
   "id": "a0152442-a94d-45be-ad03-d191be492e19",
   "metadata": {},
   "outputs": [],
   "source": [
    "df2 = pd.read_parquet(filepath2)"
   ]
  },
  {
   "cell_type": "markdown",
   "id": "3e1ed971-d08d-4232-958b-8a350b4f8d7b",
   "metadata": {},
   "source": [
    "# Validate equivalence"
   ]
  },
  {
   "cell_type": "code",
   "execution_count": null,
   "id": "8833353b-3ac7-4f85-8528-6b354970af0a",
   "metadata": {},
   "outputs": [],
   "source": [
    "(df2 == df).all(axis=None)"
   ]
  },
  {
   "cell_type": "code",
   "execution_count": null,
   "id": "d5d9ffd4-d7f4-49ff-ae64-e77db3159551",
   "metadata": {},
   "outputs": [],
   "source": [
    "df2.head()"
   ]
  },
  {
   "cell_type": "markdown",
   "id": "e55e86fa-d9ba-4971-b71c-3fd6fbfa3c93",
   "metadata": {},
   "source": [
    "# Remove old file once file is validated"
   ]
  },
  {
   "cell_type": "code",
   "execution_count": null,
   "id": "bdfa0ffa-e8fc-481e-b283-f0a7dc508b0f",
   "metadata": {},
   "outputs": [],
   "source": [
    "os.remove(filepath)"
   ]
  },
  {
   "cell_type": "code",
   "execution_count": null,
   "id": "da8711b2-f46a-4e3e-842d-016067b924d8",
   "metadata": {},
   "outputs": [],
   "source": []
  }
 ],
 "metadata": {
  "kernelspec": {
   "display_name": "Python [conda env:ML_gpu]",
   "language": "python",
   "name": "conda-env-ML_gpu-py"
  },
  "language_info": {
   "codemirror_mode": {
    "name": "ipython",
    "version": 3
   },
   "file_extension": ".py",
   "mimetype": "text/x-python",
   "name": "python",
   "nbconvert_exporter": "python",
   "pygments_lexer": "ipython3",
   "version": "3.10.4"
  }
 },
 "nbformat": 4,
 "nbformat_minor": 5
}
